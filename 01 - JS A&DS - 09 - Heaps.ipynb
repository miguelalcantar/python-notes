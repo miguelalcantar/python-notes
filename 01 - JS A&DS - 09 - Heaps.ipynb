{
 "cells": [
  {
   "cell_type": "markdown",
   "metadata": {},
   "source": [
    "### Binary Heaps\n",
    "\n",
    "---\n",
    "\n",
    "#### Maximum Binary Heap"
   ]
  },
  {
   "cell_type": "code",
   "execution_count": 1,
   "metadata": {},
   "outputs": [],
   "source": [
    "import math"
   ]
  },
  {
   "cell_type": "code",
   "execution_count": 2,
   "metadata": {},
   "outputs": [],
   "source": [
    "class Node(object):\n",
    "    def __init__(self, data=None, left=None, right=None):\n",
    "        self.data = data\n",
    "        self.left = left\n",
    "        self.right = right\n",
    "\n",
    "    def getData(self):\n",
    "        return self.data\n",
    "    \n",
    "    def setData(self, x):\n",
    "        self.data = x\n",
    "\n",
    "    def getRight(self):\n",
    "        return self.right\n",
    "\n",
    "    def setRight(self, nright):\n",
    "        self.right = nright\n",
    "        \n",
    "    def getLeft(self):\n",
    "        return self.left\n",
    "    \n",
    "    def setLeft(self, nleft):\n",
    "        self.left = nleft"
   ]
  },
  {
   "cell_type": "code",
   "execution_count": 188,
   "metadata": {},
   "outputs": [],
   "source": [
    "class MaxBinaryHeap(object):\n",
    "    def __init__(self):\n",
    "        self.arr = []\n",
    "        \n",
    "    def inserting(self,value):\n",
    "        self.arr.append(value)\n",
    "        index = len(self.arr) - 1\n",
    "        while(index > 0):\n",
    "            parentIndex = math.floor((index - 1)/2)\n",
    "            if(self.arr[index] <= self.arr[parentIndex]): return\n",
    "            self.arr[index], self.arr[parentIndex] = self.arr[parentIndex], self.arr[index]\n",
    "            index = parentIndex\n",
    "            \n",
    "    def removeMax(self):\n",
    "        \n",
    "        if(len(self.arr) == 0): return None\n",
    "        \n",
    "        max_value = self.arr[0]\n",
    "        end = self.arr.pop()\n",
    "        if(len(self.arr) > 0): self.arr[0] = end\n",
    "        \n",
    "        parentIndex, leftChild, rightChild = 0,1,2\n",
    "        \n",
    "        while(leftChild < len(self.arr)):           \n",
    "            \n",
    "            if(len(self.arr) > rightChild): rgt = self.arr[rightChild]\n",
    "            else: rgt = -1                \n",
    "            \n",
    "            if(rgt < self.arr[leftChild]):\n",
    "                if(self.arr[parentIndex] < self.arr[leftChild]):\n",
    "                    self.arr[parentIndex], self.arr[leftChild] = self.arr[leftChild], self.arr[parentIndex]\n",
    "                    parentIndex = leftChild\n",
    "                else: break\n",
    "            else:\n",
    "                if(self.arr[parentIndex] < self.arr[rightChild]):\n",
    "                    self.arr[parentIndex], self.arr[rightChild] = self.arr[rightChild], self.arr[parentIndex]\n",
    "                    parentIndex = rightChild\n",
    "                else: break\n",
    "        \n",
    "            leftChild, rightChild = 2 * parentIndex + 1, 2 * parentIndex + 2\n",
    "        \n",
    "        return max_value\n",
    "    \n",
    "    def printing(self):\n",
    "        for i in self.arr:\n",
    "            print(i)"
   ]
  },
  {
   "cell_type": "code",
   "execution_count": 189,
   "metadata": {},
   "outputs": [],
   "source": [
    "MBH = MaxBinaryHeap()"
   ]
  },
  {
   "cell_type": "code",
   "execution_count": 190,
   "metadata": {},
   "outputs": [],
   "source": [
    "MBH.inserting(9)\n",
    "MBH.inserting(10)\n",
    "MBH.inserting(8)\n",
    "MBH.inserting(5)\n",
    "MBH.inserting(1)\n",
    "MBH.inserting(6)\n",
    "MBH.inserting(11)\n",
    "MBH.inserting(7)\n",
    "MBH.inserting(16)"
   ]
  },
  {
   "cell_type": "code",
   "execution_count": 191,
   "metadata": {},
   "outputs": [
    {
     "name": "stdout",
     "output_type": "stream",
     "text": [
      "16\n",
      "11\n",
      "10\n",
      "9\n",
      "11\n",
      "6\n",
      "8\n",
      "5\n",
      "7\n",
      "1\n"
     ]
    }
   ],
   "source": [
    "MBH.inserting(11)\n",
    "MBH.printing()"
   ]
  },
  {
   "cell_type": "code",
   "execution_count": 210,
   "metadata": {},
   "outputs": [],
   "source": [
    "MBH.removeMax()\n",
    "MBH.printing()"
   ]
  },
  {
   "cell_type": "code",
   "execution_count": 172,
   "metadata": {},
   "outputs": [],
   "source": []
  },
  {
   "cell_type": "code",
   "execution_count": null,
   "metadata": {},
   "outputs": [],
   "source": []
  },
  {
   "cell_type": "code",
   "execution_count": null,
   "metadata": {},
   "outputs": [],
   "source": []
  }
 ],
 "metadata": {
  "kernelspec": {
   "display_name": "Python 3",
   "language": "python",
   "name": "python3"
  },
  "language_info": {
   "codemirror_mode": {
    "name": "ipython",
    "version": 3
   },
   "file_extension": ".py",
   "mimetype": "text/x-python",
   "name": "python",
   "nbconvert_exporter": "python",
   "pygments_lexer": "ipython3",
   "version": "3.7.1"
  }
 },
 "nbformat": 4,
 "nbformat_minor": 2
}
