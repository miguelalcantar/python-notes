{
 "cells": [
  {
   "cell_type": "markdown",
   "metadata": {},
   "source": [
    "### Binary Search Tree"
   ]
  },
  {
   "cell_type": "markdown",
   "metadata": {},
   "source": [
    "#### Node Class"
   ]
  },
  {
   "cell_type": "code",
   "execution_count": 35,
   "metadata": {},
   "outputs": [],
   "source": [
    "class Node(object):\n",
    "    def __init__(self, data=None, left=None, right=None):\n",
    "        self.data = data\n",
    "        self.left = left\n",
    "        self.right = right\n",
    "\n",
    "    def getData(self):\n",
    "        return self.data\n",
    "    \n",
    "    def setData(self, x):\n",
    "        self.data = x\n",
    "\n",
    "    def getRight(self):\n",
    "        return self.right\n",
    "\n",
    "    def setRight(self, nright):\n",
    "        self.right = nright\n",
    "        \n",
    "    def getLeft(self):\n",
    "        return self.left\n",
    "    \n",
    "    def setLeft(self, nleft):\n",
    "        self.left = nleft     "
   ]
  },
  {
   "cell_type": "markdown",
   "metadata": {},
   "source": [
    "#### Helpers"
   ]
  },
  {
   "cell_type": "code",
   "execution_count": null,
   "metadata": {},
   "outputs": [],
   "source": [
    "def inOrderHelper(node):\n",
    "    \n",
    "    if(node.getLeft() != None): node = node.getLeft()\n",
    "    "
   ]
  },
  {
   "cell_type": "markdown",
   "metadata": {},
   "source": [
    "#### BST Class"
   ]
  },
  {
   "cell_type": "code",
   "execution_count": 178,
   "metadata": {},
   "outputs": [],
   "source": [
    "class BST(Node):\n",
    "    def __init__(self,root=None):\n",
    "        self.root = root\n",
    "        super().__init__()\n",
    "    \n",
    "    def getRoot(self):\n",
    "        return self.root\n",
    "        \n",
    "    def insert(self, value):\n",
    "        newNode = Node(value)\n",
    "        if(self.root == None): self.root = newNode\n",
    "        else:\n",
    "            p = self.root\n",
    "            while(p != None):\n",
    "                q = p\n",
    "                if(newNode.getData() < p.getData()): p = p.getLeft()\n",
    "                else: p = p.getRight()\n",
    "            if(newNode.getData() < q.getData()): q.setLeft(newNode)\n",
    "            else: q.setRight(newNode)\n",
    "        \n",
    "    def search(self,value):\n",
    "        p = self.root\n",
    "        while(p != None):\n",
    "            print(p.getData())\n",
    "            q = p\n",
    "            if(p.getData() == value): return p\n",
    "            if(value < p.getData()): p = p.getLeft()\n",
    "            else: p = p.getRight()\n",
    "        return None\n",
    "    \n",
    "    #Tree traversal\n",
    "    def BSF(self):\n",
    "        data, queue, p = [], [], self.root\n",
    "        queue.append(p)\n",
    "        \n",
    "        while(len(queue) > 0):\n",
    "            p = queue.pop(0)\n",
    "            data.append(p)\n",
    "            if(p.getLeft() != None): queue.append(p.getLeft())\n",
    "            if(p.getRight() != None): queue.append(p.getRight())\n",
    "        \n",
    "        return data           \n",
    "    \n",
    "    #InOrder\n",
    "    def inOrder(self):\n",
    "        data = []\n",
    "        \n",
    "        def inOrderHelper(node):\n",
    "            if(node.getLeft() != None): inOrderHelper(node.getLeft())\n",
    "            data.append(node)\n",
    "            if(node.getRight() != None): inOrderHelper(node.getRight())\n",
    "        \n",
    "        inOrderHelper(self.root)\n",
    "            \n",
    "        return data\n",
    "    \n",
    "#     preOrder\n",
    "    def preOrder(self):\n",
    "        data = []\n",
    "        \n",
    "        def preOrderHelper(node):\n",
    "            data.append(node)\n",
    "            if(node.getLeft() != None): preOrderHelper(node.getLeft())\n",
    "            if(node.getRight() != None): preOrderHelper(node.getRight())\n",
    "        \n",
    "        preOrderHelper(self.root)\n",
    "            \n",
    "        return data\n",
    "    \n",
    "#     postOder\n",
    "    def postOrder(self):\n",
    "        data = []\n",
    "        \n",
    "        def postOrderHelper(node=self.root):\n",
    "            if(node.getLeft() != None): postOrderHelper(node.getLeft())\n",
    "            if(node.getRight() != None): postOrderHelper(node.getRight())\n",
    "            data.append(node)\n",
    "        \n",
    "        postOrderHelper()\n",
    "            \n",
    "        return data"
   ]
  },
  {
   "cell_type": "code",
   "execution_count": 179,
   "metadata": {},
   "outputs": [],
   "source": [
    "tree = BST()"
   ]
  },
  {
   "cell_type": "code",
   "execution_count": 180,
   "metadata": {},
   "outputs": [
    {
     "name": "stdout",
     "output_type": "stream",
     "text": [
      "10\n",
      "9\n"
     ]
    },
    {
     "data": {
      "text/plain": [
       "9"
      ]
     },
     "execution_count": 180,
     "metadata": {},
     "output_type": "execute_result"
    }
   ],
   "source": [
    "tree.insert(10)\n",
    "tree.insert(11)\n",
    "tree.insert(13)\n",
    "tree.insert(15)\n",
    "tree.insert(12)\n",
    "tree.insert(33)\n",
    "tree.insert(18)\n",
    "tree.insert(9)\n",
    "tree.insert(6)\n",
    "tree.insert(8)\n",
    "tree.insert(7)\n",
    "tree.insert(1)\n",
    "tree.search(9).getData()"
   ]
  },
  {
   "cell_type": "markdown",
   "metadata": {},
   "source": [
    "#### Tree traversal"
   ]
  },
  {
   "cell_type": "code",
   "execution_count": 181,
   "metadata": {},
   "outputs": [
    {
     "name": "stdout",
     "output_type": "stream",
     "text": [
      "10\n",
      "9\n",
      "11\n",
      "6\n",
      "13\n",
      "1\n",
      "8\n",
      "12\n",
      "15\n",
      "7\n",
      "33\n",
      "18\n"
     ]
    }
   ],
   "source": [
    "a = tree.BSF()\n",
    "for i in a:\n",
    "    print(i.getData())"
   ]
  },
  {
   "cell_type": "code",
   "execution_count": 182,
   "metadata": {},
   "outputs": [
    {
     "name": "stdout",
     "output_type": "stream",
     "text": [
      "1\n",
      "7\n",
      "8\n",
      "6\n",
      "9\n",
      "12\n",
      "18\n",
      "33\n",
      "15\n",
      "13\n",
      "11\n",
      "10\n"
     ]
    }
   ],
   "source": [
    "a = tree.postOrder()\n",
    "for i in a:\n",
    "    print(i.getData())"
   ]
  },
  {
   "cell_type": "code",
   "execution_count": 163,
   "metadata": {},
   "outputs": [
    {
     "name": "stdout",
     "output_type": "stream",
     "text": [
      "[9, 1, 2, 3, 4, 44, 1]\n",
      "[9, 1, 2, 3, 4, 44]\n",
      "[1, 2, 3, 4, 44]\n"
     ]
    }
   ],
   "source": [
    "a = [9,1,2,3,4,44,1]\n",
    "print(a)\n",
    "a.pop()\n",
    "print(a)\n",
    "a.pop(0)\n",
    "print(a)"
   ]
  },
  {
   "cell_type": "code",
   "execution_count": 191,
   "metadata": {},
   "outputs": [
    {
     "data": {
      "text/plain": [
       "5832175805379436100"
      ]
     },
     "execution_count": 191,
     "metadata": {},
     "output_type": "execute_result"
    }
   ],
   "source": [
    "hash('i')"
   ]
  },
  {
   "cell_type": "code",
   "execution_count": null,
   "metadata": {},
   "outputs": [],
   "source": []
  }
 ],
 "metadata": {
  "kernelspec": {
   "display_name": "Python 3",
   "language": "python",
   "name": "python3"
  },
  "language_info": {
   "codemirror_mode": {
    "name": "ipython",
    "version": 3
   },
   "file_extension": ".py",
   "mimetype": "text/x-python",
   "name": "python",
   "nbconvert_exporter": "python",
   "pygments_lexer": "ipython3",
   "version": "3.7.1"
  }
 },
 "nbformat": 4,
 "nbformat_minor": 2
}
