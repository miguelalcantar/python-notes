{
 "cells": [
  {
   "cell_type": "markdown",
   "metadata": {},
   "source": [
    "## Stacks and Queues"
   ]
  },
  {
   "cell_type": "markdown",
   "metadata": {},
   "source": [
    "#### Node Class"
   ]
  },
  {
   "cell_type": "code",
   "execution_count": 4,
   "metadata": {},
   "outputs": [],
   "source": [
    "class Node(object):\n",
    "\n",
    "    def __init__(self, data=None, next_=None):\n",
    "        self.data = data\n",
    "        self.next_ = next_\n",
    "\n",
    "    def getData(self):\n",
    "        return self.data\n",
    "    \n",
    "    def setData(self, x):\n",
    "        self.data= x\n",
    "\n",
    "    def getNext(self):\n",
    "        return self.next_\n",
    "\n",
    "    def setNext(self, new_next):\n",
    "        self.next_ = new_next"
   ]
  },
  {
   "cell_type": "markdown",
   "metadata": {},
   "source": [
    "#### Stack Class"
   ]
  },
  {
   "cell_type": "code",
   "execution_count": 28,
   "metadata": {},
   "outputs": [],
   "source": [
    "class stack(object):\n",
    "    def __init__(self,length = 0, last = None, first = None):\n",
    "        self.length = length\n",
    "        self.last = last\n",
    "        self.first = first\n",
    "        \n",
    "    def getLength(self):\n",
    "        return self.length\n",
    "    \n",
    "    def getLast(self):\n",
    "        return self.last\n",
    "    \n",
    "    def getFirst(self):\n",
    "        return self.first\n",
    "    \n",
    "    def walk(self):\n",
    "        if(self.length == 0): return\n",
    "        temp = self.first\n",
    "        while(temp != None):\n",
    "            print(temp.getData())\n",
    "            temp = temp.getNext()\n",
    "            \n",
    "    def pushing(self, value):\n",
    "        newNode = Node(value)\n",
    "        if(self.length == 0):\n",
    "            self.first, self.last = newNode, newNode\n",
    "        else:\n",
    "            temp = self.first\n",
    "            self.first = newNode\n",
    "            self.first.setNext(temp)\n",
    "        self.length += 1\n",
    "        \n",
    "    def popping(self):\n",
    "        if(self.length == 0): return None\n",
    "        temp = self.first\n",
    "        if(self.length == 1):\n",
    "            self.first, self.last = None, None\n",
    "        else:\n",
    "            tempDel = self.first\n",
    "            self.first = self.first.getNext()\n",
    "            del tempDel\n",
    "        self.length -= 1\n",
    "        return temp\n",
    "        \n",
    "    "
   ]
  },
  {
   "cell_type": "code",
   "execution_count": 29,
   "metadata": {},
   "outputs": [
    {
     "ename": "NameError",
     "evalue": "name 'staticmethodck' is not defined",
     "output_type": "error",
     "traceback": [
      "\u001b[0;31m---------------------------------------------------------------------------\u001b[0m",
      "\u001b[0;31mNameError\u001b[0m                                 Traceback (most recent call last)",
      "\u001b[0;32m<ipython-input-29-04850e499299>\u001b[0m in \u001b[0;36m<module>\u001b[0;34m\u001b[0m\n\u001b[0;32m----> 1\u001b[0;31m \u001b[0mstck\u001b[0m \u001b[0;34m=\u001b[0m \u001b[0mstaticmethodck\u001b[0m\u001b[0;34m(\u001b[0m\u001b[0;34m)\u001b[0m\u001b[0;34m\u001b[0m\u001b[0;34m\u001b[0m\u001b[0m\n\u001b[0m",
      "\u001b[0;31mNameError\u001b[0m: name 'staticmethodck' is not defined"
     ]
    }
   ],
   "source": [
    "stck = staticmethodck()"
   ]
  },
  {
   "cell_type": "code",
   "execution_count": null,
   "metadata": {},
   "outputs": [],
   "source": [
    "stck.pushing(10)\n",
    "stck.pushing(9)\n",
    "stck.pushing(8)\n",
    "stck.pushing(7)\n",
    "stck.pushing(6)\n",
    "stck.walk()"
   ]
  },
  {
   "cell_type": "code",
   "execution_count": 49,
   "metadata": {},
   "outputs": [
    {
     "data": {
      "text/plain": [
       "10"
      ]
     },
     "execution_count": 49,
     "metadata": {},
     "output_type": "execute_result"
    }
   ],
   "source": [
    "stck.popping().getData()"
   ]
  },
  {
   "cell_type": "markdown",
   "metadata": {},
   "source": [
    "#### Queue Class"
   ]
  },
  {
   "cell_type": "code",
   "execution_count": 34,
   "metadata": {},
   "outputs": [],
   "source": [
    "class queue(object):\n",
    "    def __init__(self,length = 0, last = None, first = None):\n",
    "        self.length = length\n",
    "        self.last = last\n",
    "        self.first = first\n",
    "        \n",
    "    def getLength(self):\n",
    "        return self.length\n",
    "    \n",
    "    def getLast(self):\n",
    "        return self.last\n",
    "    \n",
    "    def getFirst(self):\n",
    "        return self.first\n",
    "    \n",
    "    def walk(self):\n",
    "        if(self.length == 0): return\n",
    "        temp = self.first\n",
    "        while(temp != None):\n",
    "            print(temp.getData())\n",
    "            temp = temp.getNext()\n",
    "            \n",
    "    def enqueue(self, value):\n",
    "        newNode = Node(value)\n",
    "        if(self.length == 0):\n",
    "            self.first, self.last = newNode, newNode\n",
    "        else:\n",
    "            temp = self.last\n",
    "            self.last = newNode\n",
    "            temp.setNext(newNode)\n",
    "        self.length += 1\n",
    "        \n",
    "    def dequeue(self):\n",
    "        if(self.length == 0): return None\n",
    "        temp = self.first\n",
    "        if(self.length == 1):\n",
    "            self.first, self.last = None, None\n",
    "        else:\n",
    "            tempDel = self.first\n",
    "            self.first = self.first.getNext()\n",
    "            del tempDel\n",
    "        self.length -= 1\n",
    "        return temp\n",
    "    "
   ]
  },
  {
   "cell_type": "code",
   "execution_count": 35,
   "metadata": {},
   "outputs": [],
   "source": [
    "queue = queue()"
   ]
  },
  {
   "cell_type": "code",
   "execution_count": 46,
   "metadata": {},
   "outputs": [
    {
     "name": "stdout",
     "output_type": "stream",
     "text": [
      "9\n",
      "8\n",
      "7\n",
      "6\n",
      "5\n",
      "9\n",
      "8\n",
      "7\n",
      "6\n",
      "5\n",
      "9\n",
      "8\n",
      "7\n",
      "6\n",
      "5\n"
     ]
    }
   ],
   "source": [
    "queue.enqueue(9)\n",
    "queue.enqueue(8)\n",
    "queue.enqueue(7)\n",
    "queue.enqueue(6)\n",
    "queue.enqueue(5)\n",
    "queue.walk()"
   ]
  },
  {
   "cell_type": "code",
   "execution_count": 53,
   "metadata": {},
   "outputs": [
    {
     "data": {
      "text/plain": [
       "9"
      ]
     },
     "execution_count": 53,
     "metadata": {},
     "output_type": "execute_result"
    }
   ],
   "source": [
    "queue.dequeue().getData()"
   ]
  },
  {
   "cell_type": "code",
   "execution_count": 54,
   "metadata": {},
   "outputs": [
    {
     "name": "stdout",
     "output_type": "stream",
     "text": [
      "8\n",
      "7\n",
      "6\n",
      "5\n",
      "9\n",
      "8\n",
      "7\n",
      "6\n",
      "5\n"
     ]
    }
   ],
   "source": [
    "queue.walk()"
   ]
  },
  {
   "cell_type": "code",
   "execution_count": null,
   "metadata": {},
   "outputs": [],
   "source": []
  }
 ],
 "metadata": {
  "kernelspec": {
   "display_name": "Python 3",
   "language": "python",
   "name": "python3"
  },
  "language_info": {
   "codemirror_mode": {
    "name": "ipython",
    "version": 3
   },
   "file_extension": ".py",
   "mimetype": "text/x-python",
   "name": "python",
   "nbconvert_exporter": "python",
   "pygments_lexer": "ipython3",
   "version": "3.7.1"
  }
 },
 "nbformat": 4,
 "nbformat_minor": 2
}
