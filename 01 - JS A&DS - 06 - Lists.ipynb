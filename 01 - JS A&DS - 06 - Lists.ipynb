{
 "cells": [
  {
   "cell_type": "markdown",
   "metadata": {},
   "source": [
    "### Single Linked List"
   ]
  },
  {
   "cell_type": "markdown",
   "metadata": {},
   "source": [
    "#### Node Class"
   ]
  },
  {
   "cell_type": "code",
   "execution_count": 180,
   "metadata": {},
   "outputs": [],
   "source": [
    "class Node(object):\n",
    "\n",
    "    def __init__(self, data=None, next_=None):\n",
    "        self.data = data\n",
    "        self.next_ = next_\n",
    "\n",
    "    def getData(self):\n",
    "        return self.data\n",
    "    \n",
    "    def setData(self, x):\n",
    "        self.data= x\n",
    "\n",
    "    def getNext(self):\n",
    "        return self.next_\n",
    "\n",
    "    def setNext(self, new_next):\n",
    "        self.next_ = new_next"
   ]
  },
  {
   "cell_type": "code",
   "execution_count": 8,
   "metadata": {},
   "outputs": [],
   "source": [
    "x = Node(13)"
   ]
  },
  {
   "cell_type": "code",
   "execution_count": 12,
   "metadata": {},
   "outputs": [
    {
     "data": {
      "text/plain": [
       "13"
      ]
     },
     "execution_count": 12,
     "metadata": {},
     "output_type": "execute_result"
    }
   ],
   "source": [
    "x.getData()"
   ]
  },
  {
   "cell_type": "markdown",
   "metadata": {},
   "source": [
    "#### Linked List Class"
   ]
  },
  {
   "cell_type": "code",
   "execution_count": 301,
   "metadata": {},
   "outputs": [],
   "source": [
    "class SingleLinkedList(object):\n",
    "    \n",
    "    def __init__(self,head=None,tail=None,length=0):\n",
    "        self.head = head\n",
    "        self.tail = tail\n",
    "        self.length = length\n",
    "    \n",
    "    def getHead(self):\n",
    "        return self.head\n",
    "    \n",
    "    def getTail(self):\n",
    "        return self.tail\n",
    "    \n",
    "    def getLength(self):\n",
    "        return self.length\n",
    "    \n",
    "#     Inserting at the end\n",
    "    def pushing(self,data):\n",
    "        newNode = Node(data)\n",
    "        if(self.head == None):\n",
    "            self.head,self.tail = newNode, newNode\n",
    "        else:\n",
    "            if(self.length == 1): self.head.setNext(newNode)\n",
    "            self.tail.setNext(newNode)\n",
    "            self.tail = newNode\n",
    "        self.length += 1\n",
    "\n",
    "#       Removing from the end\n",
    "    def popping(self):\n",
    "        \n",
    "        if(self.length == 0): return None \n",
    "        \n",
    "        p = self.head\n",
    "        q = None\n",
    "        \n",
    "        while(p.getNext() != None): \n",
    "            q = p\n",
    "            p = p.getNext()\n",
    "        \n",
    "        temp = p.getData()\n",
    "        del p\n",
    "        q.setNext(None)\n",
    "        self.tail = q\n",
    "        self.length -= 1      \n",
    "        return temp\n",
    "        \n",
    "        \n",
    "#       Inserting a new node at the beginning\n",
    "    def unshifting(self,data):\n",
    "        newNode = Node(data)\n",
    "        if(self.head == None):\n",
    "            self.head,self.tail = newNode, newNode\n",
    "        else:\n",
    "            newNode.setNext(self.head)\n",
    "            self.head = newNode\n",
    "        self.length += 1       \n",
    "        \n",
    "        \n",
    "#       Removing at the beginning\n",
    "    def shifting(self):\n",
    "        if(self.length == 0): return None\n",
    "        temp = self.head\n",
    "        del self.head\n",
    "        self.head = temp.getNext()\n",
    "        self.length -= 1\n",
    "        return temp.getData()\n",
    "        \n",
    "        \n",
    "#       Retreiving a node by position\n",
    "    def get(self,index):\n",
    "        if(index < 0 or index >= self.length): return None\n",
    "        temp = self.head\n",
    "        for i in range(0,index):\n",
    "            temp = temp.getNext()\n",
    "        return temp\n",
    "    \n",
    "#     Changing value of a node based on its position\n",
    "    def setData(self,index,value):\n",
    "        if(index < 0 or index >= self.length): return False\n",
    "        temp = self.head\n",
    "        for i in range(0,index):\n",
    "            temp = temp.getNext()\n",
    "        temp.setData(value)\n",
    "        return True\n",
    "    \n",
    "#     Insert a node at specific position\n",
    "    def insert(self, index, value):\n",
    "        if(index < 0 or index >= self.length): return False\n",
    "        elif(index == self.length - 1): self.pushing(value)\n",
    "        elif(index == 0): self.unshifting(value)\n",
    "        else:\n",
    "            newNode = Node(value)\n",
    "            temp = self.get(index - 1)\n",
    "            newNode.setNext(temp.getNext())\n",
    "            temp.setNext(newNode)\n",
    "            self.length += 1\n",
    "        return True        \n",
    "        \n",
    "#         Remove a node at specific position\n",
    "    def remove(self,index):\n",
    "        if(index < 0 or index >= self.length): return False\n",
    "        elif(index == self.length - 1): self.popping()\n",
    "        elif(index == 0): self.shifting()\n",
    "        else:\n",
    "            temp = self.get(index - 1)\n",
    "            nextTemp = temp.getNext()\n",
    "            temp.setNext(nextTemp.getNext())\n",
    "            del temp            \n",
    "            self.length -= 1\n",
    "        return True    \n",
    "        \n",
    "    def visualize(self):\n",
    "        \n",
    "        if(self.length == 0): return\n",
    "        print(self.head.getData(), end=' ')\n",
    "        temp = self.head.getNext()\n",
    "        while(temp != None):\n",
    "            print(temp.getData(), end=' ')\n",
    "            temp = temp.getNext()"
   ]
  },
  {
   "cell_type": "code",
   "execution_count": 302,
   "metadata": {},
   "outputs": [],
   "source": [
    "l = SingleLinkedList()"
   ]
  },
  {
   "cell_type": "code",
   "execution_count": 303,
   "metadata": {},
   "outputs": [
    {
     "name": "stdout",
     "output_type": "stream",
     "text": [
      "5\n"
     ]
    }
   ],
   "source": [
    "l.pushing(7)\n",
    "l.pushing(7)\n",
    "l.pushing(9)\n",
    "l.pushing(10)\n",
    "l.pushing(11)\n",
    "print(l.getLength())\n",
    "l.unshifting(101)"
   ]
  },
  {
   "cell_type": "code",
   "execution_count": 304,
   "metadata": {},
   "outputs": [
    {
     "name": "stdout",
     "output_type": "stream",
     "text": [
      "6\n",
      "101 7 7 9 10 11 "
     ]
    }
   ],
   "source": [
    "print(l.getLength())\n",
    "l.visualize()\n",
    "\n",
    "# l.shifting()"
   ]
  },
  {
   "cell_type": "code",
   "execution_count": 312,
   "metadata": {},
   "outputs": [
    {
     "name": "stdout",
     "output_type": "stream",
     "text": [
      "6\n",
      "10 7 7 0 9 10 "
     ]
    }
   ],
   "source": [
    "print(l.getLength())\n",
    "l.visualize()"
   ]
  },
  {
   "cell_type": "code",
   "execution_count": 306,
   "metadata": {},
   "outputs": [
    {
     "data": {
      "text/plain": [
       "True"
      ]
     },
     "execution_count": 306,
     "metadata": {},
     "output_type": "execute_result"
    }
   ],
   "source": [
    "l.setData(0,10)"
   ]
  },
  {
   "cell_type": "code",
   "execution_count": 307,
   "metadata": {},
   "outputs": [
    {
     "data": {
      "text/plain": [
       "True"
      ]
     },
     "execution_count": 307,
     "metadata": {},
     "output_type": "execute_result"
    }
   ],
   "source": [
    "l.insert(3,0)"
   ]
  },
  {
   "cell_type": "code",
   "execution_count": 308,
   "metadata": {},
   "outputs": [
    {
     "data": {
      "text/plain": [
       "True"
      ]
     },
     "execution_count": 308,
     "metadata": {},
     "output_type": "execute_result"
    }
   ],
   "source": [
    "l.remove(6)"
   ]
  },
  {
   "cell_type": "markdown",
   "metadata": {},
   "source": [
    "### Double Linked Lists"
   ]
  },
  {
   "cell_type": "markdown",
   "metadata": {},
   "source": [
    "#### Node Class"
   ]
  },
  {
   "cell_type": "markdown",
   "metadata": {},
   "source": [
    "The main difflerence between these node clases is that these nodes contains pointers to their front and rear"
   ]
  },
  {
   "cell_type": "code",
   "execution_count": 14,
   "metadata": {},
   "outputs": [],
   "source": [
    "class DNode(object):\n",
    "\n",
    "    def __init__(self, data=None, next_=None, previous_=None):\n",
    "        self.data = data\n",
    "        self.next_ = next_\n",
    "        self.previous_ = previous_\n",
    "\n",
    "    def getData(self):\n",
    "        return self.data\n",
    "    \n",
    "    def setData(self, x):\n",
    "        self.data= x\n",
    "\n",
    "    def getNext(self):\n",
    "        return self.next_\n",
    "\n",
    "    def setNext(self, newNext):\n",
    "        self.next_ = newNext\n",
    "        \n",
    "    def getPrevious(self):\n",
    "        return self.previous_\n",
    "    \n",
    "    def setPrevious(self, newPrevious):\n",
    "        self.previous_ = newPrevious"
   ]
  },
  {
   "cell_type": "markdown",
   "metadata": {},
   "source": [
    "#### Class"
   ]
  },
  {
   "cell_type": "code",
   "execution_count": 215,
   "metadata": {},
   "outputs": [],
   "source": [
    "class DoubleLinkedList(object):\n",
    "    \n",
    "    def __init__(self,head=None,tail=None,length=0):\n",
    "        self.head = head\n",
    "        self.tail = tail\n",
    "        self.length = length\n",
    "        \n",
    "    def getHead(self):\n",
    "        return self.head\n",
    "    \n",
    "    def getTail(self):\n",
    "        return self.tail\n",
    "    \n",
    "    def getLength(self):\n",
    "        return self.length\n",
    "    \n",
    "    def forwards(self):\n",
    "        if(self.length == 0): return\n",
    "        print(self.head.getData(), end=' ')\n",
    "        temp = self.head.getNext()\n",
    "        while(temp != None):\n",
    "            print(temp.getData(), end=' ')\n",
    "            temp = temp.getNext()\n",
    "    \n",
    "    def backwards(self):\n",
    "        if(self.length == 0): return\n",
    "        print(self.tail.getData(), end=' ')\n",
    "        temp = self.tail.getPrevious()\n",
    "        while(temp != None):\n",
    "            print(temp.getData(), end=' ')\n",
    "            temp = temp.getPrevious()\n",
    "            \n",
    "#             Adding at the end\n",
    "    def pushing(self, value):\n",
    "        newNode = DNode(value)\n",
    "        if(self.length == 0): self.head, self.tail = newNode, newNode\n",
    "        else:\n",
    "            if(self.length == 1):\n",
    "                self.head.setNext(newNode)\n",
    "                newNode.setPrevious(self.head)\n",
    "            else:\n",
    "                self.tail.setNext(newNode)\n",
    "                newNode.setPrevious(self.tail)\n",
    "            self.tail = newNode\n",
    "        self.length += 1\n",
    "        \n",
    "#         Removing at the end\n",
    "    def popping(self):\n",
    "        if(self.length == 0): return None\n",
    "        temp = self.tail\n",
    "        if(self.length == 1): self.tail, self.head = None, None\n",
    "        else:\n",
    "            del self.tail\n",
    "            self.tail = temp.getPrevious()\n",
    "            self.tail.setNext(None)\n",
    "        self.length -= 1\n",
    "        return temp\n",
    "    \n",
    "#     Adding at the beginning\n",
    "    def unshifting(self, value):\n",
    "        newNode = DNode(value)\n",
    "        if(self.length == 0): self.head,self.tail = newNode, newNode\n",
    "        else:\n",
    "            if(self.length == 1):\n",
    "                self.tail.setPrevious(newNode)\n",
    "                newNode.setNext(self.tail)\n",
    "            else:\n",
    "                self.head.setPrevious(newNode)\n",
    "                newNode.setNext(self.head)\n",
    "            self.head = newNode\n",
    "        self.length += 1\n",
    "    \n",
    "#     Removing at the beginning\n",
    "    def shifting(self):\n",
    "        if(self.length == 0): return None\n",
    "        temp = self.head\n",
    "        if(self.length == 1): self.tail, self.head = None, None\n",
    "        else:\n",
    "            del self.head\n",
    "            self.head = temp.getNext()\n",
    "            self.head.setPrevious(None)\n",
    "        self.length -= 1\n",
    "        return temp\n",
    "    \n",
    "#           Retreiving a node by position\n",
    "    def get(self,index):\n",
    "        if(index < 0 or index >= self.length): return None\n",
    "        pointer = None\n",
    "        if(index < self.length / 2):\n",
    "            pointer = self.head\n",
    "            for i in range(0,index):\n",
    "                pointer = pointer.getNext()\n",
    "        else:\n",
    "            pointer = self.tail\n",
    "            for i in range(0,self.length - index - 1):\n",
    "                pointer = pointer.getPrevious()\n",
    "        return pointer\n",
    "\n",
    "#         Changing value of a node based on its position\n",
    "    def setData(self,index,value):\n",
    "        temp = self.get(index)\n",
    "        if(temp):\n",
    "            temp.setData(value)\n",
    "            return True\n",
    "        return False\n",
    "    \n",
    "    #     Insert a node at specific position\n",
    "    def insert(self, index, value):\n",
    "        if(index < 0 or index >= self.length): return False\n",
    "        elif(index == self.length - 1): self.pushing(value)\n",
    "        elif(index == 0): self.unshifting(value)\n",
    "        else:  \n",
    "            newNode = Node(value)  \n",
    "            temp = self.get(index - 1)\n",
    "            nextTemp = temp.getNext()\n",
    "            nextTemp.setPrevious(newNode)\n",
    "            temp.setNext(newNode)\n",
    "            newNode.setNext(nextTemp)\n",
    "            newNode.setPrevious(temp)\n",
    "            self.length += 1\n",
    "        return True        \n",
    "        \n",
    "#         Remove a node at specific position\n",
    "    def remove(self,index):\n",
    "        if(index < 0 or index >= self.length): return False\n",
    "        elif(index == self.length - 1): self.popping()\n",
    "        elif(index == 0): self.shifting()\n",
    "        else:\n",
    "            temp = self.get(index)\n",
    "            nextTemp = temp.getNext()\n",
    "            prevTemp = temp.getPrevious()\n",
    "            nextTemp.setPrevious(prevTemp)\n",
    "            prevTemp.setNext(nextTemp)\n",
    "            del temp            \n",
    "            self.length -= 1\n",
    "        return True    "
   ]
  },
  {
   "cell_type": "code",
   "execution_count": 216,
   "metadata": {},
   "outputs": [
    {
     "name": "stdout",
     "output_type": "stream",
     "text": [
      "4\n",
      "9 8 7 6 "
     ]
    }
   ],
   "source": [
    "dl = DoubleLinkedList()\n",
    "dl.pushing(9)\n",
    "dl.pushing(8)\n",
    "dl.pushing(7)\n",
    "dl.pushing(6)\n",
    "print(dl.getLength())\n",
    "dl.forwards()"
   ]
  },
  {
   "cell_type": "code",
   "execution_count": 217,
   "metadata": {},
   "outputs": [
    {
     "name": "stdout",
     "output_type": "stream",
     "text": [
      "6 7 8 9 100 "
     ]
    }
   ],
   "source": [
    "# dl = DoubleLinkedList()\n",
    "# dl.unshifting(1)\n",
    "dl.unshifting(100)\n",
    "dl.backwards()"
   ]
  },
  {
   "cell_type": "code",
   "execution_count": 238,
   "metadata": {},
   "outputs": [
    {
     "name": "stdout",
     "output_type": "stream",
     "text": [
      "8 "
     ]
    }
   ],
   "source": [
    "dl.forwards()"
   ]
  },
  {
   "cell_type": "code",
   "execution_count": 225,
   "metadata": {},
   "outputs": [
    {
     "data": {
      "text/plain": [
       "100"
      ]
     },
     "execution_count": 225,
     "metadata": {},
     "output_type": "execute_result"
    }
   ],
   "source": [
    "dl.get(0).getData()"
   ]
  },
  {
   "cell_type": "code",
   "execution_count": 226,
   "metadata": {},
   "outputs": [
    {
     "data": {
      "text/plain": [
       "True"
      ]
     },
     "execution_count": 226,
     "metadata": {},
     "output_type": "execute_result"
    }
   ],
   "source": [
    "dl.setData(0,1)"
   ]
  },
  {
   "cell_type": "code",
   "execution_count": 227,
   "metadata": {},
   "outputs": [
    {
     "data": {
      "text/plain": [
       "True"
      ]
     },
     "execution_count": 227,
     "metadata": {},
     "output_type": "execute_result"
    }
   ],
   "source": [
    "dl.insert(0,100)"
   ]
  },
  {
   "cell_type": "code",
   "execution_count": 239,
   "metadata": {},
   "outputs": [
    {
     "data": {
      "text/plain": [
       "False"
      ]
     },
     "execution_count": 239,
     "metadata": {},
     "output_type": "execute_result"
    }
   ],
   "source": [
    "dl.remove(1)"
   ]
  },
  {
   "cell_type": "code",
   "execution_count": null,
   "metadata": {},
   "outputs": [],
   "source": []
  }
 ],
 "metadata": {
  "kernelspec": {
   "display_name": "Python 3",
   "language": "python",
   "name": "python3"
  },
  "language_info": {
   "codemirror_mode": {
    "name": "ipython",
    "version": 3
   },
   "file_extension": ".py",
   "mimetype": "text/x-python",
   "name": "python",
   "nbconvert_exporter": "python",
   "pygments_lexer": "ipython3",
   "version": "3.7.1"
  }
 },
 "nbformat": 4,
 "nbformat_minor": 2
}
