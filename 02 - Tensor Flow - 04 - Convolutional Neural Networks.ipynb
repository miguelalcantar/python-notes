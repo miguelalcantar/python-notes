{
 "cells": [
  {
   "cell_type": "code",
   "execution_count": 1,
   "metadata": {},
   "outputs": [
    {
     "data": {
      "text/plain": [
       "<Figure size 640x480 with 1 Axes>"
      ]
     },
     "metadata": {},
     "output_type": "display_data"
    }
   ],
   "source": [
    "from PIL import Image\n",
    "import numpy as np\n",
    "import matplotlib.pyplot as plt\n",
    "import matplotlib.image as mpimg\n",
    "import math\n",
    "\n",
    "img = Image.open('images/muralla-china2.jpg')\n",
    "np_img = np.array(img)\n",
    "\n",
    "plt.imshow(img)\n",
    "plt.show()"
   ]
  },
  {
   "cell_type": "code",
   "execution_count": 3,
   "metadata": {},
   "outputs": [],
   "source": [
    "def pooling(image,factor):\n",
    "    \n",
    "    x = factor\n",
    "    \n",
    "    while():\n",
    "        for i in range(factor):\n",
    "            for j in range(factor):\n",
    "                p += factor"
   ]
  },
  {
   "cell_type": "code",
   "execution_count": 4,
   "metadata": {
    "scrolled": false
   },
   "outputs": [],
   "source": [
    "def averageMethod(RGB_image):\n",
    "  \n",
    "    r, g, b = RGB_image[:,:,0], RGB_image[:,:,1], RGB_image[:,:,2]\n",
    "    arr = 0.2989 * r + 0.5870 * g + 0.1140 * b\n",
    "\n",
    "    return arr"
   ]
  },
  {
   "cell_type": "code",
   "execution_count": 5,
   "metadata": {},
   "outputs": [
    {
     "name": "stdout",
     "output_type": "stream",
     "text": [
      "[[236.882  236.882  236.882  ... 225.1713 223.1715 223.1715]\n",
      " [236.882  236.882  236.882  ... 225.1713 224.1714 224.1714]\n",
      " [236.882  236.882  236.882  ... 225.1713 224.1714 224.1714]\n",
      " ...\n",
      " [113.2463 112.2464 112.2464 ... 142.7361 139.7364 139.7364]\n",
      " [113.2463 111.2465 108.2468 ... 139.7364 139.7364 139.7364]\n",
      " [110.1496 111.1495 111.1495 ... 141.7362 139.7364 139.7364]]\n"
     ]
    }
   ],
   "source": [
    "np_img_bw = averageMethod(np_img)\n",
    "print(np_img_bw)"
   ]
  },
  {
   "cell_type": "markdown",
   "metadata": {},
   "source": [
    "## Convolutions and pooling\n",
    "---\n",
    "**Convolutions**\n",
    "\n",
    "In math, a convolution is a mathematical operator that transforms two given functions *f* and *g* in a third function that in a certain way represents the magnitude between *f* and a moved and inverted version of *g*.\n",
    "\n",
    "One of the challenges on computer vision is that the imputs can be really big. These operations help to make smaller the image and less complex the processing to the next layers of the neural network.\n",
    "\n",
    "I.e: Edges detection of an image can be helped by some convolutional filters which find vertical and horizontal edges"
   ]
  },
  {
   "cell_type": "markdown",
   "metadata": {},
   "source": [
    "We can start simulating the image by an array, then process it in the **convolutional** function with a given filter and return the result. The filter is given as well.\n",
    "\n",
    "youtube explanation: https://www.youtube.com/watch?v=XuD4C8vJzEQ&list=PLkDaE6sCZn6Gl29AoE31iwdVwSG-KnDzF&index=2"
   ]
  },
  {
   "cell_type": "code",
   "execution_count": 6,
   "metadata": {},
   "outputs": [],
   "source": [
    "def convolution(image, _filter):\n",
    "    \n",
    "    columns,rows = image.shape[0], image.shape[1]\n",
    "    \n",
    "    result = np.zeros((columns-2, rows-2))\n",
    "    \n",
    "    for x in range(1,columns-1):\n",
    "        for y in range(1,rows-1):\n",
    "            for j in range(_filter.shape[0]):\n",
    "                for i in range(_filter.shape[1]):\n",
    "#                     print(image[x - 1 + i][y  - 1 + j], \"*\",_filter[i][j],\"=\",image[x - 1 + i][y  - 1 + j] * _filter[i][j])\n",
    "                    result[x-1][y-1] += image[x - 1 + i][y  - 1 + j] * _filter[i][j]\n",
    "#             print()\n",
    "        \n",
    "    return result"
   ]
  },
  {
   "cell_type": "code",
   "execution_count": 7,
   "metadata": {},
   "outputs": [],
   "source": [
    "# arr = np.array([[3,0,1,2,7,4],\n",
    "#                 [1,5,8,9,3,1],\n",
    "#                 [2,7,2,5,1,3],\n",
    "#                 [0,1,3,1,7,8],\n",
    "#                 [4,2,1,6,2,8],\n",
    "#                 [2,4,5,2,3,9]])\n",
    "\n",
    "f_verticalLines = np.array([[1,0,-1],\n",
    "                           [1,0,-1],\n",
    "                            [1,0,-1]])\n",
    "\n",
    "f_horizontalLines =  np.array([[-1,-2,-1],\n",
    "                               [0,0,0],\n",
    "                                [1,2,1]])"
   ]
  },
  {
   "cell_type": "code",
   "execution_count": 8,
   "metadata": {},
   "outputs": [
    {
     "data": {
      "text/plain": [
       "array([[ 0.00000000e+00,  0.00000000e+00,  0.00000000e+00, ...,\n",
       "         0.00000000e+00,  9.99900000e-01,  2.99970000e+00],\n",
       "       [ 0.00000000e+00,  0.00000000e+00,  0.00000000e+00, ...,\n",
       "        -2.99970000e+00, -2.84217094e-14,  2.99970000e+00],\n",
       "       [-3.99960000e+00, -3.99960000e+00, -3.99960000e+00, ...,\n",
       "        -3.99960000e+00, -2.99970000e+00, -9.99900000e-01],\n",
       "       ...,\n",
       "       [ 2.98212000e+01,  3.85923000e+01,  5.31348000e+01, ...,\n",
       "        -3.99960000e+00,  1.99980000e+00, -9.99900000e-01],\n",
       "       [ 7.91130000e+00, -8.79000000e-02,  1.91190000e+00, ...,\n",
       "        -2.59974000e+01, -1.29987000e+01, -2.99970000e+00],\n",
       "       [-6.38740000e+00, -6.15940000e+00, -1.07029000e+01, ...,\n",
       "        -4.99950000e+00, -1.99980000e+00, -9.99900000e-01]])"
      ]
     },
     "execution_count": 8,
     "metadata": {},
     "output_type": "execute_result"
    }
   ],
   "source": [
    "new_img_bw = convolution(np_img_bw,f_horizontalLines)\n",
    "new_img_bw"
   ]
  },
  {
   "cell_type": "code",
   "execution_count": 9,
   "metadata": {},
   "outputs": [],
   "source": [
    "im_img_bw = Image.fromarray(np_img_bw)\n",
    "im_img_bw.show()"
   ]
  },
  {
   "cell_type": "code",
   "execution_count": 10,
   "metadata": {},
   "outputs": [],
   "source": [
    "im_img_bw_compact = Image.fromarray(convolution(np_img_bw,f_horizontalLines))\n",
    "im_img_bw_compact.show()"
   ]
  },
  {
   "cell_type": "code",
   "execution_count": null,
   "metadata": {},
   "outputs": [],
   "source": []
  }
 ],
 "metadata": {
  "kernelspec": {
   "display_name": "Python 3",
   "language": "python",
   "name": "python3"
  },
  "language_info": {
   "codemirror_mode": {
    "name": "ipython",
    "version": 3
   },
   "file_extension": ".py",
   "mimetype": "text/x-python",
   "name": "python",
   "nbconvert_exporter": "python",
   "pygments_lexer": "ipython3",
   "version": "3.7.6"
  }
 },
 "nbformat": 4,
 "nbformat_minor": 2
}
