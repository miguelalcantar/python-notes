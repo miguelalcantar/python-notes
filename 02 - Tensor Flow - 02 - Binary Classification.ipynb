{
 "cells": [
  {
   "cell_type": "markdown",
   "metadata": {},
   "source": [
    "## Binary Classification\n",
    "\n",
    "Two-Class classification or Binary Classification may be one of the most common applied kind of Machine-Learning problem.\n",
    "\n",
    "**IMDB Dataset:** 50,000 highly polarized reviews, splited into 25,000 reviews for training and the remaining for testing. Each one consisting of half positive and half negative reviwes.\n",
    "\n",
    "***Importance of training:*** The model is able to *learn* generalizations. One must be careful of not *overfitting* or *learning characteristics*.\n",
    "\n",
    "---\n",
    "\n",
    "### Loading the IMDB Dataset"
   ]
  },
  {
   "cell_type": "code",
   "execution_count": 3,
   "metadata": {},
   "outputs": [
    {
     "name": "stderr",
     "output_type": "stream",
     "text": [
      "Using TensorFlow backend.\n"
     ]
    },
    {
     "name": "stdout",
     "output_type": "stream",
     "text": [
      "Downloading data from https://s3.amazonaws.com/text-datasets/imdb.npz\n",
      "17465344/17464789 [==============================] - 15s 1us/step\n"
     ]
    }
   ],
   "source": [
    "from tensorflow import keras\n",
    "from keras.datasets import imdb\n",
    "(train_data, train_labels), (test_data, test_labels) = imdb.load_data(\n",
    "num_words=10000)"
   ]
  },
  {
   "cell_type": "markdown",
   "metadata": {},
   "source": [
    "The argument *num_words = 10000* means it will be keep the top 10,000 most frequently occurring words\n",
    "\n",
    "Variables <font color=red>*train_data*</font> and <font color=red>*test_data*</font> are lists of reviews; each review is a list of ***words indices***"
   ]
  },
  {
   "cell_type": "code",
   "execution_count": 12,
   "metadata": {},
   "outputs": [
    {
     "name": "stdout",
     "output_type": "stream",
     "text": [
      "train:  25000  test:  25000\n"
     ]
    }
   ],
   "source": [
    "print(\"train: \", len(train_data), \" test: \",len(test_data))"
   ]
  },
  {
   "cell_type": "markdown",
   "metadata": {},
   "source": [
    "<font color=red>*train_labels*</font> and <font color=red>*test_labels*</font> are lists of 0s and 1s"
   ]
  },
  {
   "cell_type": "code",
   "execution_count": 14,
   "metadata": {},
   "outputs": [
    {
     "name": "stdout",
     "output_type": "stream",
     "text": [
      "train: [1 0 0 ... 0 1 0] test:  [0 1 1 ... 0 0 0]\n"
     ]
    }
   ],
   "source": [
    "print(\"train:\",train_labels,\"test: \",test_labels)"
   ]
  },
  {
   "cell_type": "markdown",
   "metadata": {},
   "source": [
    "Here is how to decode these reviews:"
   ]
  },
  {
   "cell_type": "code",
   "execution_count": 28,
   "metadata": {},
   "outputs": [],
   "source": [
    "word_index = imdb.get_word_index()\n",
    "reverse_word_index = dict(\n",
    "    [(value, key) for (key, value) in word_index.items()])\n",
    "decoded_review = ' '.join(\n",
    "    [reverse_word_index.get(i - 3, '?') for i in train_data[0]])"
   ]
  },
  {
   "cell_type": "markdown",
   "metadata": {},
   "source": [
    "So, the decode function takes the indices from reviews and makes the transformation with the dictionary of words"
   ]
  },
  {
   "cell_type": "code",
   "execution_count": 29,
   "metadata": {
    "scrolled": true
   },
   "outputs": [
    {
     "data": {
      "text/plain": [
       "\"? this film was just brilliant casting location scenery story direction everyone's really suited the part they played and you could just imagine being there robert ? is an amazing actor and now the same being director ? father came from the same scottish island as myself so i loved the fact there was a real connection with this film the witty remarks throughout the film were great it was just brilliant so much that i bought the film as soon as it was released for ? and would recommend it to everyone to watch and the fly fishing was amazing really cried at the end it was so sad and you know what they say if you cry at a film it must have been good and this definitely was also ? to the two little boy's that played the ? of norman and paul they were just brilliant children are often left out of the ? list i think because the stars that play them all grown up are such a big profile for the whole film but these children are amazing and should be praised for what they have done don't you think the whole story was so lovely because it was true and was someone's life after all that was shared with us all\""
      ]
     },
     "execution_count": 29,
     "metadata": {},
     "output_type": "execute_result"
    }
   ],
   "source": [
    "decoded_review"
   ]
  },
  {
   "cell_type": "markdown",
   "metadata": {},
   "source": [
    "---\n",
    "\n",
    "### Preparing the data\n",
    "\n",
    "One most turn the lists into tensors, there are two ways to do it:\n",
    "\n",
    "- Pad lists so that they all have the same length, turn them into an integer tensor of shape (samples, word_indices), and then use as the first layer in your network a layer capable of handling such integer tensors\n",
    "- One-hot encode lists to turn them into vectors of 0s and 1s. This would mean, for instance, turning the sequence [3, 5] into a 10,000-dimensional vector that would be all 0s except for indices 3 and 5, which would be 1s. Then one could use as the first layer in the network a Dense layer, capable of handling floating-point vector data\n",
    "\n",
    "\n",
    "**Vectorizing the data:**"
   ]
  },
  {
   "cell_type": "code",
   "execution_count": 47,
   "metadata": {},
   "outputs": [],
   "source": [
    "import numpy as np\n",
    "\n",
    "def vectorize_sequences(sequences, dimension=10000):\n",
    "    results = np.zeros((len(sequences), dimension))\n",
    "    for i,sequence in enumerate(sequences):\n",
    "        results[i, sequence] = 1\n",
    "    return results"
   ]
  },
  {
   "cell_type": "code",
   "execution_count": 48,
   "metadata": {
    "scrolled": true
   },
   "outputs": [],
   "source": [
    "x_train = vectorize_sequences(train_data)\n",
    "x_test = vectorize_sequences(test_data)"
   ]
  },
  {
   "cell_type": "code",
   "execution_count": 49,
   "metadata": {},
   "outputs": [],
   "source": [
    "y_train = np.asarray(train_labels).astype('float32')\n",
    "y_test = np.asarray(test_labels).astype('float32')"
   ]
  },
  {
   "cell_type": "markdown",
   "metadata": {},
   "source": [
    "---\n",
    "### Building the network\n",
    "\n",
    "A type of network that performs well on such a problem is a simple stack of fully connected *(Dense)* layers with *relu* activations: *Dense(16, activation='relu')*\n",
    "\n",
    "**Note:** The argument being passed to each *Dense* layer is the number of ***hidden units*** of the layer.\n",
    "A **hidden unit** is a dimension in the representation space of the layer\n",
    "\n",
    "Having more hidden units allows the network to learn more complex representations, but it makes it more computationally expensive and could *overfit* the model.\n",
    "\n",
    "There are two architecture decisions about a stack of *Dense* layers:\n",
    "\n",
    "- How many layers to use\n",
    "- How many hidden layers to choose in each layer\n",
    "\n",
    "Is possible to use different activation functions inside the *Dense* layers, in this case will be used *relu* and *sigmoid* functions, which means zero for negative values and arbitrary values into [0,1] that can be interpreted as probably, respectively"
   ]
  },
  {
   "cell_type": "code",
   "execution_count": 50,
   "metadata": {},
   "outputs": [],
   "source": [
    "from keras import models\n",
    "from keras import layers\n",
    "\n",
    "model = models.Sequential()\n",
    "model.add(layers.Dense(16, activation='relu', input_shape=(10000,)))\n",
    "model.add(layers.Dense(16, activation='relu'))\n",
    "model.add(layers.Dense(1, activation='sigmoid'))"
   ]
  },
  {
   "cell_type": "markdown",
   "metadata": {},
   "source": [
    "Finally, is needed to choose a loss function and an optmizer"
   ]
  },
  {
   "cell_type": "code",
   "execution_count": 52,
   "metadata": {},
   "outputs": [],
   "source": [
    "model.compile(optimizer='rmsprop',\n",
    "            loss='binary_crossentropy',\n",
    "            metrics=['accuracy'])"
   ]
  },
  {
   "cell_type": "markdown",
   "metadata": {},
   "source": [
    "---\n",
    "### Validating the approach"
   ]
  },
  {
   "cell_type": "code",
   "execution_count": 54,
   "metadata": {},
   "outputs": [],
   "source": [
    "x_val = x_train[:10000]\n",
    "partial_x_train = x_train[10000:]\n",
    "y_val = y_train[:10000]\n",
    "partial_y_train = y_train[10000:]"
   ]
  },
  {
   "cell_type": "markdown",
   "metadata": {},
   "source": [
    "Now the model will be trained 20 epochs and 512 mini-batches"
   ]
  },
  {
   "cell_type": "code",
   "execution_count": 64,
   "metadata": {
    "scrolled": true
   },
   "outputs": [
    {
     "name": "stdout",
     "output_type": "stream",
     "text": [
      "Train on 15000 samples, validate on 10000 samples\n",
      "Epoch 1/20\n",
      "15000/15000 [==============================] - 2s 120us/step - loss: 0.1577 - acc: 0.9434 - val_loss: 0.1582 - val_acc: 0.9439\n",
      "Epoch 2/20\n",
      "15000/15000 [==============================] - 2s 109us/step - loss: 0.1241 - acc: 0.9591 - val_loss: 0.1763 - val_acc: 0.9335\n",
      "Epoch 3/20\n",
      "15000/15000 [==============================] - 1s 100us/step - loss: 0.1031 - acc: 0.9687 - val_loss: 0.1763 - val_acc: 0.9330\n",
      "Epoch 4/20\n",
      "15000/15000 [==============================] - 2s 102us/step - loss: 0.0891 - acc: 0.9751 - val_loss: 0.1890 - val_acc: 0.9293\n",
      "Epoch 5/20\n",
      "15000/15000 [==============================] - 2s 110us/step - loss: 0.0737 - acc: 0.9798 - val_loss: 0.2102 - val_acc: 0.9214\n",
      "Epoch 6/20\n",
      "15000/15000 [==============================] - 2s 121us/step - loss: 0.0617 - acc: 0.9848 - val_loss: 0.2278 - val_acc: 0.9182\n",
      "Epoch 7/20\n",
      "15000/15000 [==============================] - 2s 104us/step - loss: 0.0522 - acc: 0.9875 - val_loss: 0.2724 - val_acc: 0.9048\n",
      "Epoch 8/20\n",
      "15000/15000 [==============================] - 2s 112us/step - loss: 0.0428 - acc: 0.9911 - val_loss: 0.2677 - val_acc: 0.9096\n",
      "Epoch 9/20\n",
      "15000/15000 [==============================] - 2s 104us/step - loss: 0.0353 - acc: 0.9929 - val_loss: 0.2925 - val_acc: 0.9084\n",
      "Epoch 10/20\n",
      "15000/15000 [==============================] - 2s 106us/step - loss: 0.0297 - acc: 0.9944 - val_loss: 0.3268 - val_acc: 0.9034\n",
      "Epoch 11/20\n",
      "15000/15000 [==============================] - 2s 103us/step - loss: 0.0232 - acc: 0.9963 - val_loss: 0.3402 - val_acc: 0.9032\n",
      "Epoch 12/20\n",
      "15000/15000 [==============================] - 2s 112us/step - loss: 0.0201 - acc: 0.9967 - val_loss: 0.3670 - val_acc: 0.8992\n",
      "Epoch 13/20\n",
      "15000/15000 [==============================] - 2s 101us/step - loss: 0.0158 - acc: 0.9977 - val_loss: 0.3956 - val_acc: 0.8964\n",
      "Epoch 14/20\n",
      "15000/15000 [==============================] - 2s 118us/step - loss: 0.0108 - acc: 0.9991 - val_loss: 0.4311 - val_acc: 0.8955\n",
      "Epoch 15/20\n",
      "15000/15000 [==============================] - 2s 127us/step - loss: 0.0100 - acc: 0.9987 - val_loss: 0.4529 - val_acc: 0.8951\n",
      "Epoch 16/20\n",
      "15000/15000 [==============================] - 2s 105us/step - loss: 0.0083 - acc: 0.9990 - val_loss: 0.4803 - val_acc: 0.8932\n",
      "Epoch 17/20\n",
      "15000/15000 [==============================] - 2s 101us/step - loss: 0.0076 - acc: 0.9988 - val_loss: 0.5099 - val_acc: 0.8899\n",
      "Epoch 18/20\n",
      "15000/15000 [==============================] - 2s 104us/step - loss: 0.0034 - acc: 0.9999 - val_loss: 0.5416 - val_acc: 0.8850\n",
      "Epoch 19/20\n",
      "15000/15000 [==============================] - 2s 104us/step - loss: 0.0046 - acc: 0.9993 - val_loss: 0.5662 - val_acc: 0.8874\n",
      "Epoch 20/20\n",
      "15000/15000 [==============================] - 2s 105us/step - loss: 0.0020 - acc: 0.9999 - val_loss: 0.6059 - val_acc: 0.8870\n"
     ]
    }
   ],
   "source": [
    "model.compile(optimizer='rmsprop',\n",
    "            loss='binary_crossentropy',\n",
    "            metrics=['acc'])\n",
    "\n",
    "history = model.fit(partial_x_train,\n",
    "                    partial_y_train,\n",
    "                    epochs=20,\n",
    "                    batch_size=512,\n",
    "                    validation_data=(x_val, y_val))"
   ]
  },
  {
   "cell_type": "markdown",
   "metadata": {},
   "source": [
    "**Ploting training and validation loss:**"
   ]
  },
  {
   "cell_type": "code",
   "execution_count": 59,
   "metadata": {},
   "outputs": [
    {
     "data": {
      "image/png": "[encoded data removed]",
      "text/plain": [
       "<Figure size 432x288 with 1 Axes>"
      ]
     },
     "metadata": {
      "needs_background": "light"
     },
     "output_type": "display_data"
    }
   ],
   "source": [
    "import matplotlib.pyplot as plt\n",
    "\n",
    "history_dict = history.history\n",
    "loss_values = history_dict['loss']\n",
    "val_loss_values = history_dict['val_loss']\n",
    "\n",
    "epochs = range(1, len(history_dict['acc']) + 1)\n",
    "\n",
    "plt.plot(epochs, loss_values, 'bo', label='Training loss')\n",
    "plt.plot(epochs, val_loss_values, 'b', label='Validation loss')\n",
    "plt.title('Training and validation loss')\n",
    "plt.xlabel('Epochs')\n",
    "plt.ylabel('Loss')\n",
    "plt.legend()\n",
    "\n",
    "plt.show()"
   ]
  },
  {
   "cell_type": "markdown",
   "metadata": {},
   "source": [
    "**Ploting the training and validation accuracy**"
   ]
  },
  {
   "cell_type": "code",
   "execution_count": 61,
   "metadata": {},
   "outputs": [
    {
     "data": {
      "image/png": "[encoded data removed]",
      "text/plain": [
       "<Figure size 432x288 with 1 Axes>"
      ]
     },
     "metadata": {
      "needs_background": "light"
     },
     "output_type": "display_data"
    }
   ],
   "source": [
    "plt.clf()\n",
    "\n",
    "acc_values = history_dict['acc']\n",
    "val_acc_values = history_dict['val_acc']\n",
    "\n",
    "plt.plot(epochs, acc_values, 'bo', label='Training acc')\n",
    "plt.plot(epochs, val_acc_values, 'b', label='Validation acc')\n",
    "plt.title('Training and validation accuracy')\n",
    "plt.xlabel('Epochs')\n",
    "plt.ylabel('Loss')\n",
    "plt.legend()\n",
    "\n",
    "plt.show()"
   ]
  },
  {
   "cell_type": "markdown",
   "metadata": {},
   "source": [
    "Training loss is decreasing and training accuracy is increasing, thats what is expected running gradient optimization.\n",
    "\n",
    "This is an example of a model which is ***overfitting*** the data, to solve this there are a bunch of techniques, however for this case will be just made from scratch. Four epochs:"
   ]
  },
  {
   "cell_type": "code",
   "execution_count": 68,
   "metadata": {},
   "outputs": [
    {
     "name": "stdout",
     "output_type": "stream",
     "text": [
      "Epoch 1/4\n",
      "25000/25000 [==============================] - 2s 75us/step - loss: 0.4362 - accuracy: 0.8198\n",
      "Epoch 2/4\n",
      "25000/25000 [==============================] - 2s 64us/step - loss: 0.2491 - accuracy: 0.9126\n",
      "Epoch 3/4\n",
      "25000/25000 [==============================] - 2s 65us/step - loss: 0.1926 - accuracy: 0.9324\n",
      "Epoch 4/4\n",
      "25000/25000 [==============================] - 2s 66us/step - loss: 0.1610 - accuracy: 0.9428\n",
      "25000/25000 [==============================] - 1s 46us/step\n"
     ]
    }
   ],
   "source": [
    "model = models.Sequential()\n",
    "\n",
    "model.add(layers.Dense(16, activation='relu', input_shape=(10000,)))\n",
    "model.add(layers.Dense(16, activation='relu'))\n",
    "model.add(layers.Dense(1, activation='sigmoid'))\n",
    "\n",
    "model.compile(optimizer='rmsprop',\n",
    "        loss='binary_crossentropy',\n",
    "        metrics=['accuracy'])\n",
    "\n",
    "model.fit(x_train, y_train, epochs=4, batch_size=512)\n",
    "\n",
    "results = model.evaluate(x_test, y_test)"
   ]
  },
  {
   "cell_type": "code",
   "execution_count": 69,
   "metadata": {},
   "outputs": [
    {
     "data": {
      "text/plain": [
       "[0.33050873030662536, 0.8729599714279175]"
      ]
     },
     "execution_count": 69,
     "metadata": {},
     "output_type": "execute_result"
    }
   ],
   "source": [
    "results"
   ]
  },
  {
   "cell_type": "markdown",
   "metadata": {},
   "source": [
    "---\n",
    "### Using a trained network to generate predictions on new data\n",
    "\n",
    "Is possible to create the likelihood of reviews being positive by using the *predict* method:"
   ]
  },
  {
   "cell_type": "code",
   "execution_count": 70,
   "metadata": {},
   "outputs": [
    {
     "data": {
      "text/plain": [
       "array([[0.26350027],\n",
       "       [0.99990916],\n",
       "       [0.9763839 ],\n",
       "       ...,\n",
       "       [0.15491244],\n",
       "       [0.15810943],\n",
       "       [0.8336415 ]], dtype=float32)"
      ]
     },
     "execution_count": 70,
     "metadata": {},
     "output_type": "execute_result"
    }
   ],
   "source": [
    "model.predict(x_test)"
   ]
  },
  {
   "cell_type": "markdown",
   "metadata": {},
   "source": [
    "---"
   ]
  },
  {
   "cell_type": "markdown",
   "metadata": {},
   "source": [
    "## Experiments\n",
    "---"
   ]
  },
  {
   "cell_type": "markdown",
   "metadata": {},
   "source": [
    "### Experiment #1:\n",
    "\n",
    "**Values:**\n",
    "\n",
    "- Hidden Layers: 2\n",
    "- Hidden units: 8\n",
    "- Epochs: 4\n",
    "- Batch size: 512\n",
    "- Optizer: rmsprop\n",
    "- Loss: binary_crossentropy\n",
    "- Activation: relu, relu, sigmoid\n",
    "\n",
    "**Results:**\n",
    "\n",
    "- Evaluate function: 0.88\n",
    "\n",
    "### Experiment #2:\n",
    "\n",
    "**Values:**\n",
    "\n",
    "- Hidden Layers: 6\n",
    "- Hidden units: 32\n",
    "- Epochs: 6\n",
    "- Batch size: 512\n",
    "- Optizer: rmsprop\n",
    "- Loss: binary_crossentropy\n",
    "- Activation: relu, relu, sigmoid\n",
    "\n",
    "**Results:**\n",
    "\n",
    "- Evaluate function: 0.86\n",
    "\n",
    "### Experiment #3:\n",
    "\n",
    "**Values:**\n",
    "\n",
    "- Hidden Layers: 6\n",
    "- Hidden units: 128\n",
    "- Epochs: 6\n",
    "- Batch size: 512\n",
    "- Optizer: rmsprop\n",
    "- Loss: binary_crossentropy\n",
    "- Activation: relu, relu, sigmoid\n",
    "\n",
    "**Results:**\n",
    "\n",
    "- Evaluate function: 0.86\n",
    "\n",
    "### Experiment #4:\n",
    "\n",
    "**Values:**\n",
    "\n",
    "- Hidden Layers: 4\n",
    "- Hidden units: 128\n",
    "- Epochs: 6\n",
    "- Batch size: 216\n",
    "- Optizer: rmsprop\n",
    "- Loss: mse\n",
    "- Activation: tanh, sigmoid\n",
    "\n",
    "**Results:**\n",
    "\n",
    "- Evaluate function: 0.86"
   ]
  },
  {
   "cell_type": "code",
   "execution_count": 103,
   "metadata": {},
   "outputs": [
    {
     "name": "stdout",
     "output_type": "stream",
     "text": [
      "Epoch 1/6\n",
      "25000/25000 [==============================] - 4s 148us/step - loss: 0.1139 - accuracy: 0.8391\n",
      "Epoch 2/6\n",
      "25000/25000 [==============================] - 4s 146us/step - loss: 0.0644 - accuracy: 0.9162\n",
      "Epoch 3/6\n",
      "25000/25000 [==============================] - 4s 142us/step - loss: 0.0497 - accuracy: 0.9361\n",
      "Epoch 4/6\n",
      "25000/25000 [==============================] - 3s 138us/step - loss: 0.0413 - accuracy: 0.9490\n",
      "Epoch 5/6\n",
      "25000/25000 [==============================] - 3s 137us/step - loss: 0.0355 - accuracy: 0.9556\n",
      "Epoch 6/6\n",
      "25000/25000 [==============================] - 3s 137us/step - loss: 0.0299 - accuracy: 0.9634\n",
      "25000/25000 [==============================] - 3s 101us/step\n",
      "results: [0.11276838988482953, 0.8642399907112122]\n"
     ]
    }
   ],
   "source": [
    "x_val = x_train[:10000]\n",
    "partial_x_train = x_train[10000:]\n",
    "y_val = y_train[:10000]\n",
    "partial_y_train = y_train[10000:]\n",
    "\n",
    "from keras import models\n",
    "from keras import layers\n",
    "\n",
    "model = models.Sequential()\n",
    "\n",
    "model.add(layers.Dense(128, activation='tanh', input_shape=(10000,)))\n",
    "model.add(layers.Dense(128, activation='tanh', input_shape=(10000,)))\n",
    "model.add(layers.Dense(128, activation='tanh', input_shape=(10000,)))\n",
    "model.add(layers.Dense(1, activation='sigmoid'))\n",
    "\n",
    "model.compile(optimizer='rmsprop',\n",
    "                loss='mse',\n",
    "                metrics=['accuracy'])\n",
    "\n",
    "model.fit(x_train, y_train, epochs=6, batch_size=216)\n",
    "\n",
    "results = model.evaluate(x_test, y_test)\n",
    "print('results:',results)\n",
    "\n",
    "# model.compile(optimizer='rmsprop',\n",
    "#             loss='binary_crossentropy',\n",
    "#             metrics=['acc'])\n",
    "\n",
    "# history = model.fit(partial_x_train,\n",
    "#                     partial_y_train,\n",
    "#                     epochs=4,\n",
    "#                     batch_size=512,\n",
    "#                     validation_data=(x_val, y_val))\n",
    "\n",
    "# plt.clf()\n",
    "\n",
    "# history_dict = history.history\n",
    "# loss_values = history_dict['loss']\n",
    "# val_loss_values = history_dict['val_loss']\n",
    "\n",
    "# epochs = range(1, len(history_dict['acc']) + 1)\n",
    "\n",
    "# plt.plot(epochs, loss_values, 'bo', label='Training loss')\n",
    "# plt.plot(epochs, val_loss_values, 'b', label='Validation loss')\n",
    "# plt.title('Training and validation loss')\n",
    "# plt.xlabel('Epochs')\n",
    "# plt.ylabel('Loss')\n",
    "# plt.legend()\n",
    "\n",
    "# plt.show()\n",
    "\n",
    "# plt.clf()\n",
    "\n",
    "# acc_values = history_dict['acc']\n",
    "# val_acc_values = history_dict['val_acc']\n",
    "\n",
    "# plt.plot(epochs, acc_values, 'bo', label='Training acc')\n",
    "# plt.plot(epochs, val_acc_values, 'b', label='Validation acc')\n",
    "# plt.title('Training and validation accuracy')\n",
    "# plt.xlabel('Epochs')\n",
    "# plt.ylabel('Loss')\n",
    "# plt.legend()\n",
    "\n",
    "# plt.show()"
   ]
  },
  {
   "cell_type": "markdown",
   "metadata": {},
   "source": [
    "---\n",
    "### Conclusions:\n",
    "\n",
    "- Preprosessing is important\n",
    "- *Relu* is quite useful\n",
    "- In Binary Classification problems, one should end with a *Dense* layer with one unit and *sigmoid* function\n",
    "- Loss function for Binary Classification is *binary_crossentropy*\n",
    "- Generally *rmsprop* is a good choice\n",
    "- Neural Networks usually end up overfitting data after some loops"
   ]
  },
  {
   "cell_type": "code",
   "execution_count": null,
   "metadata": {},
   "outputs": [],
   "source": []
  }
 ],
 "metadata": {
  "kernelspec": {
   "display_name": "Python 3",
   "language": "python",
   "name": "python3"
  },
  "language_info": {
   "codemirror_mode": {
    "name": "ipython",
    "version": 3
   },
   "file_extension": ".py",
   "mimetype": "text/x-python",
   "name": "python",
   "nbconvert_exporter": "python",
   "pygments_lexer": "ipython3",
   "version": "3.7.1"
  }
 },
 "nbformat": 4,
 "nbformat_minor": 2
}
