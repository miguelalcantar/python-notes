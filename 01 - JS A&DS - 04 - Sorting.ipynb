{
 "cells": [
  {
   "cell_type": "markdown",
   "metadata": {},
   "source": [
    "### Bubble sort"
   ]
  },
  {
   "cell_type": "code",
   "execution_count": 29,
   "metadata": {},
   "outputs": [],
   "source": [
    "def bubble(arr):\n",
    "    \n",
    "    for i in range(0,len(arr)):\n",
    "        swap = False\n",
    "        \n",
    "        for j in range(0,len(arr)-i-1):\n",
    "            \n",
    "            if(arr[j] > arr[j+1]): \n",
    "                arr[j], arr[j+1] = arr[j+1], arr[j]\n",
    "                swap = True\n",
    "#             print(arr)\n",
    "#         print()\n",
    "        if(swap == False): return arr\n",
    "    \n",
    "    return arr"
   ]
  },
  {
   "cell_type": "code",
   "execution_count": 30,
   "metadata": {},
   "outputs": [
    {
     "data": {
      "text/plain": [
       "[1, 6, 7, 99, 100]"
      ]
     },
     "execution_count": 30,
     "metadata": {},
     "output_type": "execute_result"
    }
   ],
   "source": [
    "bubble([99,7,1,100,6])"
   ]
  },
  {
   "cell_type": "markdown",
   "metadata": {},
   "source": [
    "### Selection"
   ]
  },
  {
   "cell_type": "code",
   "execution_count": 27,
   "metadata": {},
   "outputs": [],
   "source": [
    "def selection(arr):\n",
    "    \n",
    "    for i in range(0,len(arr)-1):\n",
    "        \n",
    "        smallest = i\n",
    "        for j in range(i,len(arr)):\n",
    "            if(arr[j] < arr[smallest]): smallest = j\n",
    "            \n",
    "        arr[i], arr[smallest] = arr[smallest], arr[i]\n",
    "#         print(arr)\n",
    "        \n",
    "    return arr          "
   ]
  },
  {
   "cell_type": "code",
   "execution_count": 28,
   "metadata": {},
   "outputs": [
    {
     "data": {
      "text/plain": [
       "[1, 6, 7, 99, 100]"
      ]
     },
     "execution_count": 28,
     "metadata": {},
     "output_type": "execute_result"
    }
   ],
   "source": [
    "selection([99,7,1,100,6])"
   ]
  },
  {
   "cell_type": "markdown",
   "metadata": {},
   "source": [
    "### Insertion"
   ]
  },
  {
   "cell_type": "code",
   "execution_count": 47,
   "metadata": {},
   "outputs": [],
   "source": [
    "def insertion(arr):\n",
    "    swap = False\n",
    "# Se utiliza la variable swap como modificacion del algoritmo \n",
    "# para evitar iteraciones redundantes en el ciclo anidado\n",
    "    for i in range(0,len(arr)):\n",
    "    \n",
    "        for j in range(0,i):\n",
    "            \n",
    "            if(arr[i-j-1] > arr[i-j]): \n",
    "                arr[i-j-1], arr[i-j] = arr[i-j], arr[i-j-1]\n",
    "                swap = True\n",
    "            else:\n",
    "                swap = False\n",
    "            \n",
    "#             print(arr, i, j)\n",
    "            if(swap == False): break\n",
    "        \n",
    "#         print()\n",
    "        \n",
    "    return arr"
   ]
  },
  {
   "cell_type": "code",
   "execution_count": 48,
   "metadata": {},
   "outputs": [
    {
     "data": {
      "text/plain": [
       "[1, 6, 7, 99, 100]"
      ]
     },
     "execution_count": 48,
     "metadata": {},
     "output_type": "execute_result"
    }
   ],
   "source": [
    "insertion([99,7,1,100,6])"
   ]
  },
  {
   "cell_type": "markdown",
   "metadata": {},
   "source": [
    "### Merge Sort"
   ]
  },
  {
   "cell_type": "markdown",
   "metadata": {},
   "source": [
    "#### Merging"
   ]
  },
  {
   "cell_type": "code",
   "execution_count": 77,
   "metadata": {},
   "outputs": [],
   "source": [
    "import numpy as np\n",
    "import math"
   ]
  },
  {
   "cell_type": "code",
   "execution_count": 117,
   "metadata": {},
   "outputs": [],
   "source": [
    "def merging(arr1,arr2):\n",
    "    \n",
    "    arr, p, q, i = np.zeros(len(arr1) + len(arr2)) ,0 ,0 ,0\n",
    "    \n",
    "    while(True):\n",
    "        \n",
    "        if(arr1[p] < arr2[q]):\n",
    "            arr[i] = arr1[p]\n",
    "            p += 1\n",
    "        else: \n",
    "            arr[i] = arr2[q]\n",
    "            q += 1\n",
    "        \n",
    "        i += 1\n",
    "        \n",
    "        if(p == len(arr1)): \n",
    "            arr[i:] = arr2[q:]\n",
    "            return arr\n",
    "        if(q == len(arr2)):\n",
    "            arr[i:] = arr1[p:]\n",
    "            return arr\n",
    "       \n",
    "    return arr"
   ]
  },
  {
   "cell_type": "code",
   "execution_count": 124,
   "metadata": {},
   "outputs": [
    {
     "data": {
      "text/plain": [
       "array([  1.,   1.,   2.,   2.,   3.,   4.,   5.,   5.,   6., 100.])"
      ]
     },
     "execution_count": 124,
     "metadata": {},
     "output_type": "execute_result"
    }
   ],
   "source": [
    "merging([1,2,5,6,100],[1,2,3,4,5])"
   ]
  },
  {
   "cell_type": "markdown",
   "metadata": {},
   "source": [
    "#### Merge Sort"
   ]
  },
  {
   "cell_type": "code",
   "execution_count": 122,
   "metadata": {},
   "outputs": [],
   "source": [
    "def mergeSort(arr):\n",
    "#     Caso base\n",
    "    if(len(arr) < 2): return arr\n",
    "    \n",
    "    middle = math.floor(len(arr)/2)\n",
    "    \n",
    "#     Se descompone en arrays de 0 y 1 de manera recursiva\n",
    "    left = mergeSort(arr[:middle])\n",
    "    right = mergeSort(arr[middle:])\n",
    "    \n",
    "# Asumiendo que un arreglo de 0 o 1 elemento se encuentra trivialmente ordenado, \n",
    "# se hace su correspondiente union\n",
    "    return merging(left,right)"
   ]
  },
  {
   "cell_type": "code",
   "execution_count": 123,
   "metadata": {},
   "outputs": [
    {
     "data": {
      "text/plain": [
       "array([ 1.,  2.,  3.,  4.,  5.,  6.,  9., 10., 11., 17.])"
      ]
     },
     "execution_count": 123,
     "metadata": {},
     "output_type": "execute_result"
    }
   ],
   "source": [
    "mergeSort([1,3,2,9,4,5,6,17,11,10])"
   ]
  },
  {
   "cell_type": "markdown",
   "metadata": {},
   "source": [
    "### Quick Sort"
   ]
  },
  {
   "cell_type": "markdown",
   "metadata": {},
   "source": [
    "#### Pivot Helper"
   ]
  },
  {
   "cell_type": "code",
   "execution_count": 10,
   "metadata": {},
   "outputs": [],
   "source": [
    "# Asuming that the pivot works from the middle\n",
    "\n",
    "def pivot(arr, left, right):\n",
    "\n",
    "    pivotIndex = left\n",
    "    storeIndex = pivotIndex + 1\n",
    "    \n",
    "    for i in range(left+1,right):\n",
    "        \n",
    "        if(arr[i] < arr[pivotIndex]):\n",
    "            arr[i], arr[storeIndex] = arr[storeIndex], arr[i]\n",
    "            storeIndex += 1\n",
    "        \n",
    "#         print(arr, pivotIndex, i, storeIndex)\n",
    "        \n",
    "    arr[storeIndex - 1], arr[pivotIndex] = arr[pivotIndex], arr[storeIndex - 1]\n",
    "    \n",
    "#     print(arr, pivotIndex, storeIndex - 1)\n",
    "#     print(left,right)\n",
    "    return storeIndex - 1"
   ]
  },
  {
   "cell_type": "code",
   "execution_count": 11,
   "metadata": {},
   "outputs": [
    {
     "data": {
      "text/plain": [
       "4"
      ]
     },
     "execution_count": 11,
     "metadata": {},
     "output_type": "execute_result"
    }
   ],
   "source": [
    "pivot([5,6,7,4,3,2,1,199,90],0,9)"
   ]
  },
  {
   "cell_type": "markdown",
   "metadata": {},
   "source": [
    "#### Quick Sort"
   ]
  },
  {
   "cell_type": "code",
   "execution_count": 51,
   "metadata": {},
   "outputs": [],
   "source": [
    "def quickSort(arr,left,right):\n",
    "\n",
    "    if(left < right):\n",
    "        middle = pivot(arr,left,right)\n",
    "        quickSort(arr,left,middle)\n",
    "        quickSort(arr,middle+1,right)   \n",
    "    return arr"
   ]
  },
  {
   "cell_type": "code",
   "execution_count": 52,
   "metadata": {},
   "outputs": [],
   "source": [
    "def quick(arr):\n",
    "    return quickSort(arr,0,len(arr))"
   ]
  },
  {
   "cell_type": "code",
   "execution_count": 53,
   "metadata": {},
   "outputs": [
    {
     "data": {
      "text/plain": [
       "[0, 1, 2, 3, 4, 5, 6, 7, 11, 90, 199]"
      ]
     },
     "execution_count": 53,
     "metadata": {},
     "output_type": "execute_result"
    }
   ],
   "source": [
    "quick([5,6,7,4,3,2,1,199,90,0,11])"
   ]
  },
  {
   "cell_type": "markdown",
   "metadata": {},
   "source": [
    "### Radix Sort"
   ]
  },
  {
   "cell_type": "markdown",
   "metadata": {},
   "source": [
    "#### Helper 1: return digit of a number"
   ]
  },
  {
   "cell_type": "code",
   "execution_count": 181,
   "metadata": {},
   "outputs": [],
   "source": [
    "def getDigit(number, position):\n",
    "     \n",
    "    return  math.floor(abs(number) / (10 ** position)%(10))"
   ]
  },
  {
   "cell_type": "code",
   "execution_count": 188,
   "metadata": {},
   "outputs": [
    {
     "data": {
      "text/plain": [
       "0"
      ]
     },
     "execution_count": 188,
     "metadata": {},
     "output_type": "execute_result"
    }
   ],
   "source": [
    "getDigit(99,4)"
   ]
  },
  {
   "cell_type": "markdown",
   "metadata": {},
   "source": [
    "#### Helper 2: get the amount of digits of a number"
   ]
  },
  {
   "cell_type": "code",
   "execution_count": 174,
   "metadata": {},
   "outputs": [],
   "source": [
    "def digitsAmount(number):\n",
    "    if(number == 0): return -1\n",
    "    i = 0\n",
    "    while(number >= 1):\n",
    "        number /= 10\n",
    "        i += 1\n",
    "    return i"
   ]
  },
  {
   "cell_type": "code",
   "execution_count": 175,
   "metadata": {},
   "outputs": [
    {
     "data": {
      "text/plain": [
       "11"
      ]
     },
     "execution_count": 175,
     "metadata": {},
     "output_type": "execute_result"
    }
   ],
   "source": [
    "digitsAmount(10098173200)"
   ]
  },
  {
   "cell_type": "markdown",
   "metadata": {},
   "source": [
    "#### Helper 3: get the max digits of the longest number of an array"
   ]
  },
  {
   "cell_type": "code",
   "execution_count": 103,
   "metadata": {},
   "outputs": [],
   "source": [
    "def maxDigitsArray(arr):\n",
    "    \n",
    "    maxDigits = 0\n",
    "    for i in range(0,len(arr)):\n",
    "        temp = digitsAmount(arr[i])\n",
    "        if(maxDigits < temp): maxDigits = temp\n",
    "            \n",
    "    return maxDigits"
   ]
  },
  {
   "cell_type": "code",
   "execution_count": 104,
   "metadata": {},
   "outputs": [
    {
     "data": {
      "text/plain": [
       "5"
      ]
     },
     "execution_count": 104,
     "metadata": {},
     "output_type": "execute_result"
    }
   ],
   "source": [
    "maxDigitsArray([5,33,100,2222,1,122,98712])"
   ]
  },
  {
   "cell_type": "markdown",
   "metadata": {},
   "source": [
    "#### Radix Sort"
   ]
  },
  {
   "cell_type": "code",
   "execution_count": 242,
   "metadata": {},
   "outputs": [],
   "source": [
    "def radix(arr):\n",
    "    \n",
    "    longest = maxDigitsArray(arr)\n",
    "    \n",
    "    for i in range(0,longest):\n",
    "        buckets = [[],[],[],[],[],[],[],[],[],[]]\n",
    "        for j in range(0,len(arr)):\n",
    "            buckets[getDigit(arr[j],i)].append(arr[j])\n",
    "\n",
    "        q = 0\n",
    "        for k in range(0,len(buckets)):\n",
    "            if(buckets[k]): \n",
    "                for p in range(0,len(buckets[k])):\n",
    "                    arr[q] = buckets[k][p]\n",
    "                    q += 1\n",
    "    return arr"
   ]
  },
  {
   "cell_type": "code",
   "execution_count": 243,
   "metadata": {},
   "outputs": [
    {
     "data": {
      "text/plain": [
       "[4, 7, 29, 86, 408, 593, 902, 1556, 3556, 4386, 8157, 9637]"
      ]
     },
     "execution_count": 243,
     "metadata": {},
     "output_type": "execute_result"
    }
   ],
   "source": [
    "radix([1556, 4, 3556, 593, 408, 4386, 902, 7, 8157, 86, 9637, 29])"
   ]
  },
  {
   "cell_type": "code",
   "execution_count": null,
   "metadata": {},
   "outputs": [],
   "source": [
    "#include <stdio.h>\n",
    "using namespace std;\n",
    "\n",
    "int length(char *a){\n",
    "\t\n",
    "\tint count = 0, i = 0;\n",
    "\t\n",
    "\twhile(*(a+i++) != '\\0') count++;\n",
    "\t\n",
    "\treturn count;\n",
    "}\n",
    "\t\n",
    "bool equals(char *a, char *b){\n",
    "\t\n",
    "\tint i = 0;\n",
    "\t\n",
    "\twhile(a[i] == b[i++]) if(*(a+i) == '\\0' && *(b+i) == '\\0') return true;\n",
    "\t\n",
    "\treturn false;\n",
    "}\n",
    "\n",
    "char *power(char *a, int n){\n",
    "\t\n",
    "\tint j = 0, m = length(a);\n",
    "\tchar *x =  new char[m * n];\n",
    "\t\n",
    "\tfor(int i = 0; i < m * n; i ++){\n",
    "\t\tx[i] = a[j];\n",
    "\t\tj++;\n",
    "\t\tif(j == m) j = 0;\n",
    "\t}\n",
    "\t\n",
    "\treturn x;\n",
    "}\n",
    "\n",
    "\n",
    "char *concat(char *a, char *b){\n",
    "\t\n",
    "\tint m = length(a), n = length(b), j = 0;\n",
    "\tchar *x = new char[m + n];\n",
    "\t\n",
    "\tfor(int i = 0; i < m + n; i++)\n",
    "\t\ti < m ? x[i] = a[i]: x[i] = b[j++];\n",
    "\t\n",
    "\treturn x;\n",
    "}\n",
    "\n",
    "void alphabet(char *a){\n",
    "\t\n",
    "\tfor(int i = 65; i < 130; i++)\n",
    "\t\tfor(int j = 0; j < length(a); j ++)\n",
    "\t\t\tif(a[j] == i){\n",
    "\t\t\t\tprintf(\"%c,\",a[j]);\n",
    "\t\t\t\tbreak;\n",
    "\t\t\t} \n",
    "\t\n",
    "}\n",
    "\n",
    "int main() {\n",
    "\t\n",
    "\tchar a[] = {'H','e','l','l','o','\\0'};\n",
    "\tchar b[] = \"Avatarz\";\n",
    "\tchar c[] = \"Avatarz\";\n",
    "\t// char d[10];\n",
    "\t\n",
    "\t// gets(d);\n",
    "\t\n",
    "\t// printf(\"%s\",d);\n",
    "\t\n",
    "\tprintf(\"%i\\n\",length(a));\n",
    "\tprintf(\"%d\\n\",equals(c,b));\n",
    "\tprintf(\"%s\\n\",power(a,2));\n",
    "\tprintf(\"%s\\n\",concat(a,c));\n",
    "\talphabet(c);\n",
    "\t\n",
    "\treturn 0;\n",
    "}"
   ]
  }
 ],
 "metadata": {
  "kernelspec": {
   "display_name": "Python 3",
   "language": "python",
   "name": "python3"
  },
  "language_info": {
   "codemirror_mode": {
    "name": "ipython",
    "version": 3
   },
   "file_extension": ".py",
   "mimetype": "text/x-python",
   "name": "python",
   "nbconvert_exporter": "python",
   "pygments_lexer": "ipython3",
   "version": "3.7.1"
  }
 },
 "nbformat": 4,
 "nbformat_minor": 2
}
