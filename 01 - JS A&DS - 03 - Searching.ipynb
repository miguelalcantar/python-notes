{
 "cells": [
  {
   "cell_type": "code",
   "execution_count": 21,
   "metadata": {},
   "outputs": [],
   "source": [
    "import math"
   ]
  },
  {
   "cell_type": "markdown",
   "metadata": {},
   "source": [
    "### Linear search:"
   ]
  },
  {
   "cell_type": "code",
   "execution_count": 17,
   "metadata": {},
   "outputs": [],
   "source": [
    "def linearSearch(arr, val):\n",
    "\n",
    "    for i in range(0,len(arr)):\n",
    "        \n",
    "        if(arr[i] == val): return i\n",
    "    \n",
    "    return -1"
   ]
  },
  {
   "cell_type": "code",
   "execution_count": 20,
   "metadata": {},
   "outputs": [
    {
     "data": {
      "text/plain": [
       "0"
      ]
     },
     "execution_count": 20,
     "metadata": {},
     "output_type": "execute_result"
    }
   ],
   "source": [
    "arr = [1,2,3,4,5,6,7,8,10,15,18]\n",
    "linearSearch(arr, 1)"
   ]
  },
  {
   "cell_type": "markdown",
   "metadata": {},
   "source": [
    "### Binary Search"
   ]
  },
  {
   "cell_type": "code",
   "execution_count": 51,
   "metadata": {},
   "outputs": [],
   "source": [
    "def binarySearch(arr,val):\n",
    "    \n",
    "    left = 0\n",
    "    right = len(arr) - 1\n",
    "    \n",
    "    while(left <= right):\n",
    "        middle = math.floor((left + right)/2)\n",
    "#         print(left,middle,right)\n",
    "        if(arr[middle] == val): return middle\n",
    "        if(arr[middle] < val): left = middle + 1\n",
    "        else: right = middle - 1     \n",
    "        \n",
    "    return -1        "
   ]
  },
  {
   "cell_type": "code",
   "execution_count": 52,
   "metadata": {},
   "outputs": [
    {
     "data": {
      "text/plain": [
       "-1"
      ]
     },
     "execution_count": 52,
     "metadata": {},
     "output_type": "execute_result"
    }
   ],
   "source": [
    "binarySearch(arr,100)"
   ]
  },
  {
   "cell_type": "markdown",
   "metadata": {},
   "source": [
    "### Naive String"
   ]
  },
  {
   "cell_type": "code",
   "execution_count": 63,
   "metadata": {},
   "outputs": [],
   "source": [
    "def naive(string, pattern):\n",
    "    \n",
    "    cnt = 0\n",
    "    \n",
    "    for i in range(0,len(string)):\n",
    "        for j in range(0,len(pattern)):\n",
    "            print(string[i + j],pattern[j])\n",
    "            if(string[i + j] != pattern[j]): break\n",
    "            if(j == len(pattern)-1): cnt += 1\n",
    "               \n",
    "    return cnt    "
   ]
  },
  {
   "cell_type": "code",
   "execution_count": 66,
   "metadata": {
    "scrolled": true
   },
   "outputs": [
    {
     "name": "stdout",
     "output_type": "stream",
     "text": [
      "w o\n",
      "o o\n",
      "w m\n",
      "w o\n",
      "o o\n",
      "m m\n",
      "g g\n",
      "m o\n",
      "g o\n",
      "z o\n",
      "o o\n",
      "m m\n",
      "g g\n",
      "m o\n",
      "g o\n"
     ]
    },
    {
     "data": {
      "text/plain": [
       "2"
      ]
     },
     "execution_count": 66,
     "metadata": {},
     "output_type": "execute_result"
    }
   ],
   "source": [
    "naive('wowomgzomg','omg')"
   ]
  },
  {
   "cell_type": "code",
   "execution_count": null,
   "metadata": {},
   "outputs": [],
   "source": []
  }
 ],
 "metadata": {
  "kernelspec": {
   "display_name": "Python 3",
   "language": "python",
   "name": "python3"
  },
  "language_info": {
   "codemirror_mode": {
    "name": "ipython",
    "version": 3
   },
   "file_extension": ".py",
   "mimetype": "text/x-python",
   "name": "python",
   "nbconvert_exporter": "python",
   "pygments_lexer": "ipython3",
   "version": "3.7.1"
  }
 },
 "nbformat": 4,
 "nbformat_minor": 2
}
