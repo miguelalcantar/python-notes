{
 "cells": [
  {
   "cell_type": "code",
   "execution_count": 233,
   "metadata": {},
   "outputs": [],
   "source": [
    "class hashTable(object):\n",
    "    def __init__(self, length):\n",
    "        self.arr = [None] * length\n",
    "        \n",
    "    def insert(self,value,key):\n",
    "        index = key%len(self.arr)\n",
    "        print(index,self.arr[index],self.arr[index]==None)\n",
    "        \n",
    "        if(self.arr[index]):\n",
    "            self.arr[index].append(value)\n",
    "        else:\n",
    "            self.arr[index] = [value]\n",
    "            \n",
    "    def find(self,value):\n",
    "        for i in self.arr:\n",
    "            if(i != None):\n",
    "                for j in i:\n",
    "                    if(j == value):\n",
    "                        return value\n",
    "    \n",
    "    def getTable(self):\n",
    "        return self.arr"
   ]
  },
  {
   "cell_type": "code",
   "execution_count": 234,
   "metadata": {},
   "outputs": [],
   "source": [
    "a = hashTable(10)"
   ]
  },
  {
   "cell_type": "code",
   "execution_count": 245,
   "metadata": {},
   "outputs": [
    {
     "name": "stdout",
     "output_type": "stream",
     "text": [
      "7 ['he', 'hel', 'hell'] False\n"
     ]
    }
   ],
   "source": [
    "a.insert('hello',107)"
   ]
  },
  {
   "cell_type": "code",
   "execution_count": 247,
   "metadata": {},
   "outputs": [
    {
     "name": "stdout",
     "output_type": "stream",
     "text": [
      "[None, ['jj', 'jj'], None, None, None, None, None, ['he', 'hel', 'hell', 'hello'], None, None]\n"
     ]
    }
   ],
   "source": [
    "print(a.getTable())"
   ]
  },
  {
   "cell_type": "code",
   "execution_count": 246,
   "metadata": {},
   "outputs": [
    {
     "data": {
      "text/plain": [
       "'hello'"
      ]
     },
     "execution_count": 246,
     "metadata": {},
     "output_type": "execute_result"
    }
   ],
   "source": [
    "a.find('hello')"
   ]
  },
  {
   "cell_type": "code",
   "execution_count": null,
   "metadata": {},
   "outputs": [],
   "source": []
  }
 ],
 "metadata": {
  "kernelspec": {
   "display_name": "Python 3",
   "language": "python",
   "name": "python3"
  },
  "language_info": {
   "codemirror_mode": {
    "name": "ipython",
    "version": 3
   },
   "file_extension": ".py",
   "mimetype": "text/x-python",
   "name": "python",
   "nbconvert_exporter": "python",
   "pygments_lexer": "ipython3",
   "version": "3.7.1"
  }
 },
 "nbformat": 4,
 "nbformat_minor": 2
}
